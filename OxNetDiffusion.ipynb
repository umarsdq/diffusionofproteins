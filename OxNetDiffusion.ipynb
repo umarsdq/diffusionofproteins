{
 "cells": [
  {
   "cell_type": "markdown",
   "metadata": {},
   "source": [
    "**Is my protein folded?**\n",
    "\n",
    "In this exercise we will develop the theory that lets us analyse NMR data that let us measure translational diffusion.\n",
    "\n",
    "In this experiment, we can vary a few delays in the experiment that lead to a variation in signal ($I$). The equation that gives us the signal, the Stejskal-Tanner equation is:\n",
    "\n",
    "$I=I_0 \\exp(-k D_T)$\n",
    "\n",
    "Where $D_T$ is the translational diffusion coefficient, $I_0$ is the 'raw' signal, and $k$ is a parameter we can vary when we setup the experiment equal to:\n",
    "\n",
    "$k=\\gamma^2\\delta^2 G^2 \\left(\\Delta - \\frac{\\delta}{3}\\right)$\n",
    "\n",
    "This is a complicated expression. $\\gamma$ is the gyromagnetic ratio of the nucleus we are analysing. $G$ is the strength of a magnetic field that we fire at the sample. $\\delta$ is the duration for which we apply this field. $\\Delta$ is a delay in the experiment.\n",
    "\n",
    "So in practice, what we do is we measure signal $I$ for a range of values of $G$ that we set on the spectrometer, where $\\delta$ and $\\Delta$ have also been specified in the program constant values. We can then plot the signal $I$ as a function of $k$, and use a program to optimise $D_T$ to get the 'best fitting model' and so determine $D_T$ and the error associated with the fitting procedure.\n",
    "\n",
    "**Why is this useful?**\n",
    "\n",
    "We are going to use this experiment to look at data from 5 different proteins, of known mass $M_w$. The molecular weights are given below, and the raw data is held in files called proteinX.out where X goes from 1 to 5. Your challenge is to take the data in the files, $I$ versus $G$, and analyse it to figure out the diffusion coefficients $D_T$. We will then compare the experimental values of $D_T$ for each protein to theory to see if this value looks like a folded or an unfolded protein, and calculate the constant $\\eta$ described below in the theory section.\n",
    "\n",
    "First of all, think about diffusion. Would you expect a folded version or an unfolded version of a protein to diffuse further in a given time? Why? Almost always, if you can think clearly in simple terms about what is going on at a molecular level, you can understand what is happening in chemistry. \n",
    "\n",
    "Would you expect a large object to diffuse faster or slower than a small one and why? Would a folded protein be larger or smaller than an unfolded protein of the same mass?\n",
    "\n",
    "\n",
    "**Theory**\n",
    "\n",
    "Using polymer theory, which we will not go into today, it is possible to link the experimental translational diffusion coefficient of a protein to whether it is folded or not. I will sketch out the proof here. The 'radius of hydration' of a protein, $R_H$ will scale with number of residues with a formula of the form $R_H= a N^b$, where $N$ is the number of residues and $a$ and $b$ are constants. The value of the constants depend on if the protein is folded or unfolded according to the following:\n",
    "\n",
    "$R_H^{\\mathrm{unfolded}} =2.21 N^{0.57}$\n",
    "\n",
    "and\n",
    "\n",
    "$R_H^{\\mathrm{folded}}=4.75 N ^{0.29}$\n",
    "\n",
    "These expressiones come from this great paper: Wilkins et al. Biochemistry, Vol. 38, No. 50, 1999 page 16424-16431. This works for proteins of molecular weight about 2 kDa (molecular weights of 2,000 g mol$^{-1}$, which is very small for a protein). The results here are in units of Angstroms $\\mathring A$, where 1 $\\mathring A$ is equal to 10$^{-10}$m. Notice that if the protein is folded, then it should behave like a solid sphere. The mass is proportional to the volume, and the number of resides is proportional to the mass. So we expect $R_H\\propto N^{1/3}$. Which is roughly what we see for the folded case above.\n",
    "\n",
    "Another important equation for this project is the Einstein-Stokes equation. We will not derive this. But this equation relates the radius of hydration, $R_H$, to the translational diffusion coefficient, $D_T$:\n",
    "\n",
    "$D_T = \\frac{k_B T}{6 \\pi \\nu R_H}$\n",
    "\n",
    "Where there are lots of constants. $k_B$ is the Boltzmann constant, $T$ is temperature, and $\\nu$ is the viscosity of the solution. This equation says that things move more (larger diffusion coefficient) if we heat things up (increase $T$), if we reduce the viscosity of the solution (lower $\\nu$) or if we make our object smaller (lower $R_H$). This equation looks complicated, but it really only says these three things.\n",
    "\n",
    "So overall, we can see that $D_T\\propto 1/R_H$. This means if we can measure $D_T$, we can turn it into a value of $R_H$ if we know what the proportionality constants are. We will need to take great care with the units. To calculate this, we substitute the $R_H$ values into the $D_T$ expression:\n",
    "\n",
    "$D_T = \\frac{k_B T}{6 \\pi \\nu a N^b \\times 10^{-10}}$\n",
    "\n",
    "Where we the 10$^{-10}$ converts the radius of hydration into units of metres, so that $D_T$ has units of m$^2$ s$^{-1}$ at the end. The 'average' molecular weight of an amino acid is 110 g mol$^{-1}$. This means that $M_W= 110 \\times N$. Substituting this result in:\n",
    "\n",
    "$D_T = \\frac{k_B T}{6 \\pi \\nu a \\left(\\frac{M_W}{110.} \\right)^b \\times 10^{-10}}$\n",
    "\n",
    "If we stare at this for a little bit, we can see that we can pull the molecular weight dependence out of the mess and make the following note:\n",
    "\n",
    "$D_T = \\kappa M_W^{-b}$\n",
    "\n",
    "where the complicated constant is everything else left over:\n",
    "\n",
    "$\\kappa= \\frac{k_B T }{6 \\pi \\nu a }110^b \\times 10^{10}$\n",
    "\n",
    "These are all constants. So our first job is to calculate the value of $\\kappa$ for an unfolded, and an unfolded protein using the values of $a$ and $b$ above. Your second task is to work through the above derivation. Your third task is to calculate the constants. I'm not going to put the units in for these two quantities for simplicity.\n",
    "\n",
    "$\\kappa^{\\mathrm{folded}}=1.798 \\times 10^{-9} $ \n",
    "\n",
    "$\\kappa^{\\mathrm{unfolded}}=1.441 \\times 10^{-8}$\n",
    "\n",
    "You will need these values:\n",
    "\n",
    "$\\nu = 10^{-3}$ N s m$^{-2}$\n",
    "\n",
    "$T= 298.19$ K which is 25$^o$C in Kelvins.\n",
    "\n",
    "$k_B=1.381 \\times 10^{-23}$ J s$^{-1}$\n",
    "\n",
    "From here, if we know what the two $\\kappa$ values are, we can relate our experimental value of $D_T$ to the molecular weight of the protein to find out whether it looks like a folded or an unfolded protein. We will use the following relation that links these two values using the constant $\\eta$ that goes from 0 to 1:\n",
    "\n",
    "$D_T^{\\mathrm{experiment}}=\\eta D_T^{\\mathrm{folded}} + (1-\\eta) D_T^\\mathrm{unfolded}$\n",
    "\n",
    "Your fourth task: prove that when $\\eta$ is equal to 1, our expermental value is equal to the folded value, and when $\\eta$ is equal to 0, our experimental value is equal to the unfolded value.\n",
    "\n",
    "We can rearrange this equation to get $\\eta$ (prove this):\n",
    "\n",
    "$\\eta=\\frac{D_T^{\\mathrm{experiment}}-D_T^\\mathrm{unfolded}}{ D_T^{\\mathrm{folded}}-D_T^\\mathrm{unfolded}   }$\n",
    "\n",
    "In summary. If we have an experimental measure of $D_T$, and we know the molecular weight of the protein $M_W$, we can calculate $\\eta$. The value of $\\eta$ should, within error, tell us whether the protein is folded or not. This means we have two challenges:\n",
    "\n",
    "The first is to take some experimental data and calculate values of $D_T$. We will use python code below that uses a 'least squares' algorithm to fit our model to the data. The second task is to take the value of $D_T$ and figure out $\\eta$, which we will then interpret in terms of 'folded' or 'unfolded'. I will then ask you to research two specific proteins on this list and I would like you to write a short paragraph explaining why it is likley that being folded or unfolded is important for these proteins inside the cell.\n",
    "\n",
    "\n",
    "**Challenge one**\n",
    "\n",
    "To accomplish this you need to read in the raw data files into python. There are five files with this project, called proteinX.out, where X goes from 1 to 5. The molecular weights of these five proteins are, in units of g mol$^{-1}$:\n",
    "\n",
    "1. 22123\n",
    "2. 118250\n",
    "3. 14230  \n",
    "4. 4500000\n",
    "5. 623220\n",
    "\n",
    "From the data we have read in, we will extract the $G$ and the $I$ values from the first and second columns respectively. We will then fit this data to the Stejskal-Tanner equation using a 'least-squares' algorithm to get optimised (best fitting) values of $I_0$ and $D_T$ and their errors. Answer the questions in the tasks.\n",
    "\n",
    "**Challenge two**\n",
    "\n",
    "Turn the fitted $D_T$ values into $\\eta$ values and find out if the protein is folded or not.\n",
    "\n",
    "**Challenge three**\n",
    "\n",
    "Protein 3 is called $\\alpha$-Synuclein, a protein that acts as a neurotransmitter in the brain. This protein, when it aggregates with itself in an abberant fashion, is associated with Parkinson's disease. Protein 4 is a ribosome assembly and is extreamly large, for a protein complex. For these two proteins, find out what they are supposed to do, and say how your result that shows whether they are folded or unfolded, might be related to their function.\n",
    "\n",
    "I have python code here to do challenges 1 and 2. You can use the functions I provide, but you should 'play' with them and make sure you understand them. With not much work, you can turn these basic functions into code that can fit any model you can think of to any experimental data. So this is well worth your time! You understand this code, and you understand data analysis and model fitting in the physical sciences.\n",
    "\n",
    "You will need to run each of the python boxes in the worksheet so that the system 'knows' about the modules it needs, the we need constants and the various functions I have defined. \n"
   ]
  },
  {
   "cell_type": "code",
   "execution_count": 36,
   "metadata": {},
   "outputs": [],
   "source": [
    "#Required modules for this project.\n",
    "#If you get an error on any of this, you need to look at your installation of python and jupyter. \n",
    "#You will need to google how you can install matplotlib, numpy and scipy. \n",
    "#If you run this cell and get an error, you need to fix this \n",
    "#before you can make any progress!\n",
    "\n",
    "from matplotlib import pyplot as plt  #import matplotlib\n",
    "import numpy                          #import numpy\n",
    "from IPython.display import display, Markdown\n",
    "from scipy.optimize import leastsq\n",
    "\n"
   ]
  },
  {
   "cell_type": "code",
   "execution_count": 37,
   "metadata": {},
   "outputs": [],
   "source": [
    "#constants set for project (will not vary!)\n",
    "delta=3E-3        #The duration for which the gradients are applied: s\n",
    "Delta=0.1         #A delay in the experiment: s\n",
    "Gmax=6000         #This is the maximum gradient strength of the magnet: G m-1\n",
    "gamma= 2.67522E4  #The proton Gyromagnetic ratio:  rad s-1 G-1\n",
    "kb=1.381E-23      #Boltzmann's constant: Js-1 \n",
    "pi=numpy.pi       #3.14159...\n",
    "nu=1E-3           #the viscosity of water at 25oC\n",
    "T0=273.19         #The temperature in K of 0oC\n",
    "T=25              #the temperature where we ran these experiments (25oC): oC"
   ]
  },
  {
   "cell_type": "code",
   "execution_count": 38,
   "metadata": {},
   "outputs": [],
   "source": [
    "def Readin(infile): #function to read in a data file\n",
    "    G=[]  #initialise a list to store G values\n",
    "    I=[]  #initialise a lsit to store I values\n",
    "    inny=open(infile) #open a 'stream' an interface to the file.\n",
    "    for line in inny.readlines():  #loop over all lines in the file\n",
    "        #print(line)      #uncomment this to see what it does\n",
    "        test=line.split()  #this line splits the line into fields separated by 'whitespace'\n",
    "        #print(test)      #uncomment this to see what it does\n",
    "        if(len(test)>0): #make sure that the line has some information in!\n",
    "            G.append(float(test[0])) #add the G value to the list\n",
    "            I.append(float(test[1])) #add the I value to the list\n",
    "    G=numpy.array(G)  #turn into a 'numpy' array\n",
    "    I=numpy.array(I)  #turn into a 'numpy' array\n",
    "    return G,I       \n",
    "\n",
    "def showfile(infile): #function to print the contents of a data file to the screen.\n",
    "    print(\"Showing contents file: %s\" % infile)\n",
    "    text_file = open(infile)\n",
    "    file_content = text_file.read()\n",
    "    print(file_content)\n",
    "    text_file.close()\n",
    "\n",
    "def CalcK(G,gamma,delta,Delta): #calculate 'k' values from an array of G values using the constants\n",
    "    return (G*delta*gamma)**2.*(Delta-delta/3.)\n",
    "\n",
    "def CalcModel(k,I0,DT):   #evaluate the Sketjal-Tanner equation for the specified array of k, and constants I0 and DT.\n",
    "    return I0*numpy.exp(-k*DT)\n",
    "\n",
    "    "
   ]
  },
  {
   "cell_type": "code",
   "execution_count": 39,
   "metadata": {},
   "outputs": [],
   "source": [
    "#functions for doing the least squares fitting.\n",
    "\n",
    "def chifunc(x,b):  #calculate the model for current settings, and return the 'chi' array, ycalc-ydata\n",
    "    #print(x,b)\n",
    "    I0=x[0]  #unpack fitting parameter 1\n",
    "    DT=x[1]  #unpack fitting parameter 2\n",
    "    k=b[0]   #unpack argument 1\n",
    "    I=b[1]   #unpack argument 2\n",
    "    return CalcModel(k,I0,DT)-I  #return ycalc-ydata\n",
    "    \n",
    "def FitModel(I0guess,DTguess,k,I,verbose=False): #function to fit model (DT,I0 pars) to data (k,I)\n",
    "    xinit=I0guess,DTguess\n",
    "    #print(\"xinit \",xinit)\n",
    "    pfit,pcov,infodict,errmsg,success=leastsq(chifunc,xinit,args=[k,I,],full_output=1) # the line that does the magic!\n",
    "\n",
    "    #now we calculate the standard error from the fitting procedure\n",
    "    #the maths of this is quite complicated. The code is also complex as it has been\n",
    "    #generalised to deal with a range of problems that may occur, that\n",
    "    #are not specifically relevant to this project.\n",
    "    if (len(I) > len(xinit)) and pcov is not None:\n",
    "        s_sq = (chifunc(pfit,[k,I,])**2).sum()/(len(I)-len(xinit))\n",
    "        pcov = pcov * s_sq\n",
    "    else:\n",
    "        pcov = numpy.inf\n",
    "\n",
    "    #now we calculate the error.\n",
    "    error = [] \n",
    "    for i in range(len(pfit)):\n",
    "        try:\n",
    "          error.append(numpy.absolute(pcov[i][i])**0.5)\n",
    "        except:\n",
    "          error.append( 0.00 )\n",
    "    perr = numpy.array(error) \n",
    "    \n",
    "    #if the 'verbose' flag is set to true, print this to screen.\n",
    "    if(verbose):\n",
    "        print(\"These are the fitted parameters:\")\n",
    "        print(\"I0=\",pfit[0],\"+/-\",perr[0])\n",
    "        print(\"DT=\",pfit[1],\"+/-\",perr[1])\n",
    "        display(Markdown(rf'  Fitted D:   %.2e $\\pm$ %.2e 'r'cm$^2$s$^{-1}$' % (pfit[0],pfit[1])))    \n",
    "    return pfit[0],pfit[1],perr[0],perr[1]"
   ]
  },
  {
   "cell_type": "code",
   "execution_count": null,
   "metadata": {},
   "outputs": [],
   "source": [
    "# DONT RUN\n",
    "\n",
    "#Functions for plotting data and making pretty summaries.\n",
    "\n",
    "#DT will be in units of m2 s-1\n",
    "def SimData(DTsim): #give this function a list of different diffusion coefficients \n",
    "    fig=plt.figure()                  #setup the plot\n",
    "    ax=fig.add_axes([0,0,1,1])        #setup the plot\n",
    "    G=numpy.linspace(0,1,20)   #calculate an arbitrary range of Gradients from 0 to 100% of maximum (0-1)\n",
    "    I0=1E6                             #arbitrary I0 value           \n",
    "    ax.set_ylim(0,1.05)               #set yrange from 0, to just above the max number (1.0)\n",
    "    ax.set_xlabel(\"G/Gmax\")           #set the Xlabel\n",
    "    ax.set_ylabel(\"I/I0\")             #set the Ylabel\n",
    "\n",
    "    for DT in DTsim:  #loop over all the test DT values in the list sent to function (DTsim)\n",
    "        k=CalcK(G*Gmax,gamma,delta,Delta)  #calc the 'k' values\n",
    "        I=CalcModel(k,I0,DT)               #simulate the model\n",
    "        I0fit,DTfit,I0err,DTerr=FitModel(2E6,1E-12,k,I) #fit the simulated model to get a nice line\n",
    "        Ifit=CalcModel(k,I0fit,DTfit)      #back-calculate the simulated data for plotting\n",
    "\n",
    "        label='%.2e m^2s^{-1}'% DT\n",
    "        ax.scatter(G,I/I0)   #make the plot of data (points)\n",
    "        ax.plot(G,Ifit/I0fit,label=label)   #make the plot of data (lines)\n",
    "    ax.legend(loc='lower left')\n",
    "        \n",
    "def SetFig():\n",
    "    fig=plt.figure()                  #setup the plot\n",
    "    ax=fig.add_axes([0,0,1,1])        #setup the plot\n",
    "    ax.set_ylim(0,1.05)               #set yrange from 0, to just above the max number (1.0)\n",
    "    ax.set_xlabel(\"G/Gmax\")           #set the Xlabel\n",
    "    ax.set_ylabel(\"I/I0\")             #set the Ylabel\n",
    "    return fig,ax    \n",
    "\n",
    "        \n",
    "def FitFile(file,verbose=False,ax=None): #give this function a list of different diffusion coefficients \n",
    "    G,I=Readin(file)       #read in text file using our own code\n",
    "    \n",
    "    if(verbose): #if verbose is set to true, then initialise a stand-alone figure\n",
    "         fig,ax=SetFig() #otherwise code assumes SetFig has been called already to get a multi-plot\n",
    "\n",
    "    k=CalcK(G*Gmax,gamma,delta,Delta)  #calc the 'k' values\n",
    "    I0fit,DTfit,I0err,DTerr=FitModel(2E6,1E-8,k,I,verbose=verbose) #fit the simulated model to get a nice line\n",
    "    Ifit=CalcModel(k,I0fit,DTfit)      #back-calculate the simulated data for plotting\n",
    "    I0=1E6\n",
    " \n",
    "    ax.scatter(G,I/I0)   #make the plot of data (points)\n",
    "    ax.plot(G,Ifit/I0fit,label=file)   #make the plot of data (lines)\n",
    "\n",
    "    if(verbose): #show legend if just making a single plot\n",
    "        ax.legend()\n",
    "\n",
    "\n",
    "    return DTfit,DTerr  #return fitted diffusion coefficient\n",
    "       \n",
    "    \n",
    "def ExpectedD(Mw,DT,DTerr,verbose=False): #print diffusion coefficients to the screen for folded and unfolded for the given molecular weight.\n",
    "    from IPython.display import display, Markdown\n",
    "    \n",
    "    #The two results from Wilkins et al.\n",
    "    #Rh unfolded =2.21*(Mw/110.)** 0.57 #in Angstroms\n",
    "    #Rh folded=4.75*(Mw/110.)** 0.29    #in Angstroms\n",
    "    #D=k T/(6 pi nu R)  #Stokes Einstein equation #units of m^2s-1 for D\n",
    "    #Average molecular weight of an amino acid = 110 g mol-1\n",
    "\n",
    "    kfol=kb* (T0+T)* 110**0.29 /(6* pi* nu* 4.75 *1E-10)  #conversion factors from Einstein-Stokes\n",
    "    kunf=kb* (T0+T)* 110**0.57 /(6* pi* nu* 2.21 *1E-10)   #conversion factors from Einstein-Stokes\n",
    "    Dfol=kfol*(Mw)**(-0.29)  \n",
    "    Dunf=kunf*(Mw)**(-0.57)\n",
    "    #print(kfol,kunf)\n",
    "    fac=(DT-Dunf)/(Dfol-Dunf)  #back calulating the unfolded fraction.\n",
    "    facErr=(DTerr**2.*(1./(Dfol-Dunf))**2.)**0.5 \n",
    "    if(verbose):\n",
    "        display(Markdown(rf'  Expected D (unfolded): %.2e 'r'm$^2$s$^{-1}$' % (Dunf)))\n",
    "        display(Markdown(rf'  Expected D (folded):   %.2e 'r'm$^2$s$^{-1}$' % (Dfol)))    \n",
    "        display(Markdown(rf'  Folded factor $\\eta$:   %.4f $pm %.4f' % (fac,facErr )))  #propagating the error, so fractional error in DT->fraction error in fac  \n",
    "    return fac,facErr\n",
    "        "
   ]
  },
  {
   "cell_type": "code",
   "execution_count": 41,
   "metadata": {},
   "outputs": [
    {
     "data": {
      "image/png": "[encoded data removed]",
      "text/plain": [
       "<Figure size 432x288 with 1 Axes>"
      ]
     },
     "metadata": {
      "needs_background": "light"
     },
     "output_type": "display_data"
    }
   ],
   "source": [
    "#COMPUTATIONAL TASK 1: put in different values of the diffusion coefficient and simulate the diffusion curves.\n",
    "#How does the data vary when you put in different diffusion coefficients?\n",
    "SimData((1E-12,1E-11,1E-10,1E-9))\n",
    "\n",
    "#are there upper and lower limits to the diffusion coefficients that can be measared using this method?\n",
    "#how could the constants delta and Delta be adjusted to help with this?\n",
    "#if you vary delta and Delta to change these plots (you should!), make sure you set the values back to \n",
    "#where they started before you move on.\n"
   ]
  },
  {
   "cell_type": "code",
   "execution_count": 44,
   "metadata": {},
   "outputs": [
    {
     "name": "stdout",
     "output_type": "stream",
     "text": [
      "These are the fitted parameters:\n",
      "I0= 991860.6474902197 +/- 3839.90856126395\n",
      "DT= 3.060754402021067e-11 +/- 4.920679919011895e-13\n"
     ]
    },
    {
     "data": {
      "text/markdown": [
       "  Fitted D:   9.92e+05 $\\pm$ 3.06e-11 cm$^2$s$^{-1}$"
      ],
      "text/plain": [
       "<IPython.core.display.Markdown object>"
      ]
     },
     "metadata": {},
     "output_type": "display_data"
    },
    {
     "data": {
      "text/markdown": [
       "  Expected D (unfolded): 7.17e-12 m$^2$s$^{-1}$"
      ],
      "text/plain": [
       "<IPython.core.display.Markdown object>"
      ]
     },
     "metadata": {},
     "output_type": "display_data"
    },
    {
     "data": {
      "text/markdown": [
       "  Expected D (folded):   3.75e-11 m$^2$s$^{-1}$"
      ],
      "text/plain": [
       "<IPython.core.display.Markdown object>"
      ]
     },
     "metadata": {},
     "output_type": "display_data"
    },
    {
     "data": {
      "text/markdown": [
       "  Folded factor $\\eta$:   0.7721 $pm 0.0162"
      ],
      "text/plain": [
       "<IPython.core.display.Markdown object>"
      ]
     },
     "metadata": {},
     "output_type": "display_data"
    },
    {
     "data": {
      "image/png": "[encoded data removed]",
      "text/plain": [
       "<Figure size 432x288 with 1 Axes>"
      ]
     },
     "metadata": {
      "needs_background": "light"
     },
     "output_type": "display_data"
    }
   ],
   "source": [
    "#COMPUTATIONAL TASK 2: take the files for the different proteins one at a time.\n",
    "#show the file on the screen to look at the raw data. Do this using showfile\n",
    "\n",
    "#Molecular weights of the proteins under study\n",
    "MwList=[]\n",
    "MwList.append(22123)\n",
    "MwList.append(118250)\n",
    "MwList.append(14230)\n",
    "MwList.append(4.5*1E6)\n",
    "MwList.append(623000)\n",
    "\n",
    "#proFiles\n",
    "proFiles=[] #make list of protein file names\n",
    "for i in range(len(MwList)):\n",
    "    proFiles.append('protein'+str(i+1)+'.out')\n",
    "\n",
    "#choose which number: ii goes from 0 to 4.\n",
    "ii=4\n",
    "\n",
    "#What is the diffusion coefficient of each protein and standard error?\n",
    "DT,DTerr=FitFile(proFiles[ii],verbose=True)  #read in data from the data file, and spit out the diffusion coefficient\n",
    "\n",
    "#Calculate the expected diffusion coefficients for a protein of this molecular weight, folded and unfolded. Calculate eta.\n",
    "fac,facErr=ExpectedD(MwList[ii],DT,DTerr,verbose=True)  #print expected diffusion coefficients for folded, and unfolded proteins.\n"
   ]
  },
  {
   "cell_type": "code",
   "execution_count": 45,
   "metadata": {},
   "outputs": [
    {
     "data": {
      "text/markdown": [
       " Protein 1 Mw: 22123 g mol$^{-1}$ $\\eta:$ 0.0601 $\\pm$ 0.0101 "
      ],
      "text/plain": [
       "<IPython.core.display.Markdown object>"
      ]
     },
     "metadata": {},
     "output_type": "display_data"
    },
    {
     "data": {
      "text/markdown": [
       " Protein 2 Mw: 118250 g mol$^{-1}$ $\\eta:$ 0.9465 $\\pm$ 0.0129 "
      ],
      "text/plain": [
       "<IPython.core.display.Markdown object>"
      ]
     },
     "metadata": {},
     "output_type": "display_data"
    },
    {
     "data": {
      "text/markdown": [
       " Protein 3 Mw: 14230 g mol$^{-1}$ $\\eta:$ 0.0143 $\\pm$ 0.0106 "
      ],
      "text/plain": [
       "<IPython.core.display.Markdown object>"
      ]
     },
     "metadata": {},
     "output_type": "display_data"
    },
    {
     "data": {
      "text/markdown": [
       " Protein 4 Mw: 4500000 g mol$^{-1}$ $\\eta:$ 1.0013 $\\pm$ 0.0276 "
      ],
      "text/plain": [
       "<IPython.core.display.Markdown object>"
      ]
     },
     "metadata": {},
     "output_type": "display_data"
    },
    {
     "data": {
      "text/markdown": [
       " Protein 5 Mw: 623000 g mol$^{-1}$ $\\eta:$ 0.7721 $\\pm$ 0.0162 "
      ],
      "text/plain": [
       "<IPython.core.display.Markdown object>"
      ]
     },
     "metadata": {},
     "output_type": "display_data"
    },
    {
     "data": {
      "image/png": "[encoded data removed]",
      "text/plain": [
       "<Figure size 432x288 with 1 Axes>"
      ]
     },
     "metadata": {
      "needs_background": "light"
     },
     "output_type": "display_data"
    }
   ],
   "source": [
    "#COMPUTATIONAL TASK 3: take the files for the different proteins at once.\n",
    "#this is a huge cheat that gives you the answers. Very important you understand how\n",
    "#this all works using the previous steps otherwise this exercise is pointless.\n",
    "\n",
    "#Molecular weights of the proteins under study\n",
    "MwList=[]\n",
    "MwList.append(22123)\n",
    "MwList.append(118250)\n",
    "MwList.append(14230)\n",
    "MwList.append(4.5*1E6)\n",
    "MwList.append(623000)\n",
    "\n",
    "#proFiles\n",
    "proFiles=[] #make list of protein file names\n",
    "for i in range(len(MwList)):\n",
    "    proFiles.append('protein'+str(i+1)+'.out')\n",
    "\n",
    "FacFit=[]\n",
    "fig,ax=SetFig()\n",
    "for i in range(len(MwList)):\n",
    "    #Fit the data using FitFile.\n",
    "    DT,DTerr=FitFile(proFiles[i],verbose=False,ax=ax)  #read in data from the data file, and spit out the diffusion coefficient\n",
    "    #What is the diffusion coefficient of this protein?\n",
    "    #Calculate the expected diffusion coefficients for a protein of this molecular weight.\n",
    "    fac,facErr=ExpectedD(MwList[i],DT,DTerr,verbose=False)  #print expected diffusion coefficients for folded, and unfolded proteins.\n",
    "    FacFit.append((fac,facErr))\n",
    "ax.legend(loc='lower left')    \n",
    "\n",
    "for i in range(len(FacFit)):\n",
    "    display(Markdown(rf' Protein %i Mw: %.0f g mol'r'$^{-1}$'rf' $\\eta:$ %.4f $\\pm$ %.4f ' % (i+1,MwList[i],FacFit[i][0],FacFit[i][1])))\n",
    "                     \n",
    "    "
   ]
  },
  {
   "cell_type": "code",
   "execution_count": null,
   "metadata": {},
   "outputs": [],
   "source": []
  }
 ],
 "metadata": {
  "kernelspec": {
   "display_name": "Python 3",
   "language": "python",
   "name": "python3"
  },
  "language_info": {
   "codemirror_mode": {
    "name": "ipython",
    "version": 3
   },
   "file_extension": ".py",
   "mimetype": "text/x-python",
   "name": "python",
   "nbconvert_exporter": "python",
   "pygments_lexer": "ipython3",
   "version": "3.8.5"
  }
 },
 "nbformat": 4,
 "nbformat_minor": 5
}
